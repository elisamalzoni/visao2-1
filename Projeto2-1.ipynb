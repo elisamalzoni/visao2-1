{
 "cells": [
  {
   "cell_type": "markdown",
   "metadata": {},
   "source": [
    "### Projeto 2-1 Visão Computacional\n",
    "Elisa Malzoni"
   ]
  },
  {
   "cell_type": "code",
   "execution_count": 2,
   "metadata": {},
   "outputs": [],
   "source": [
    "%reset -f\n",
    "%matplotlib inline\n",
    "\n",
    "import cv2 as cv2\n",
    "import numpy as np\n",
    "import matplotlib.pyplot as plt\n",
    "\n",
    "import time"
   ]
  },
  {
   "cell_type": "markdown",
   "metadata": {},
   "source": [
    "## Aula 09 - Good features to Track"
   ]
  },
  {
   "cell_type": "code",
   "execution_count": null,
   "metadata": {},
   "outputs": [],
   "source": [
    "captura = cv2.VideoCapture(0)\n",
    "\n",
    "# Para não deixar encavalar os frames\n",
    "captura.set(cv2.CAP_PROP_BUFFERSIZE, 1)\n",
    "\n",
    "# Parametriza a funcao do OpenCV\n",
    "dt_params = dict( maxCorners = 100,\n",
    "           qualityLevel = 0.3,\n",
    "           minDistance = 7,\n",
    "           blockSize = 7 )\n",
    "\n",
    "color = np.random.randint(0,255,(100,3))\n",
    "\n",
    "# Parametriza o Lucas-Kanade\n",
    "lk_params = dict( winSize  = (15,15),\n",
    "                  maxLevel = 2,\n",
    "                  criteria = (cv2.TERM_CRITERIA_EPS | cv2.TERM_CRITERIA_COUNT, 10, 0.03))\n",
    "\n",
    "\n",
    "ret, previous = captura.read()\n",
    "\n",
    "previous_gray = cv2.cvtColor(previous, cv2.COLOR_RGB2GRAY)\n",
    "p0 = cv2.goodFeaturesToTrack(previous_gray, mask = None, **dt_params)\n",
    "mask = np.zeros_like(previous)\n",
    "\n",
    "fomv = 0\n",
    "\n",
    "while(1):\n",
    "    \n",
    "    ret, actual = captura.read()\n",
    "    actual_gray = cv2.cvtColor(actual, cv2.COLOR_RGB2GRAY)\n",
    "    \n",
    "    # Calcula Fluxo Otico\n",
    "    p1, st, err = cv2.calcOpticalFlowPyrLK(previous_gray, actual_gray, p0, None, **lk_params)\n",
    "        \n",
    "    # Seleciona somente os melhores pontos\n",
    "    good_new = p1[st==1]\n",
    "    good_old = p0[st==1]\n",
    "       \n",
    "\n",
    "    # Desenha as trilhas para cada ponto em p1 e p0\n",
    "    for i,(new, old) in enumerate(zip(good_new, good_old)):\n",
    "        a,b = new.ravel()\n",
    "        c,d = old.ravel()\n",
    "        mask = cv2.line(mask, (a,b),(c,d), [0,0,255], 2)\n",
    "        actual = cv2.circle(actual,(a,b),5,color[i].tolist(),-1)\n",
    "    \n",
    "\n",
    "    # Calcula fluxo otico medio\n",
    "    sub = np.subtract(good_new, good_old)\n",
    "    fom = np.mean(sub, axis=0) \n",
    "    fom = (-1)*fom\n",
    "    fomv += fom\n",
    "#     print(fomv)\n",
    "    \n",
    "    frame = cv2.add(actual, mask)\n",
    "    framebw = cv2.cvtColor(frame, cv2.COLOR_RGB2GRAY)\n",
    "    rows, cols = framebw.shape\n",
    "    \n",
    "    tx = (np.uint8(fomv[0]))\n",
    "    ty = (np.uint8(fomv[1]))\n",
    "    \n",
    "    M = np.float32([[1,0,tx],\n",
    "                    [0,1,ty]])\n",
    "    \n",
    "    framet = cv2.warpAffine(frame, M,(cols,rows))\n",
    "    \n",
    "    cv2.imshow(\"Video\", framet)\n",
    "    \n",
    "    # Atualiza a imagem anterior com a imagem atual e copia os pontos.\n",
    "    previous_gray = actual_gray.copy()\n",
    "    p0 = good_new.reshape(-1,1,2)\n",
    "    \n",
    "    \n",
    "    # Pressione ESC para sair do loop\n",
    "    k = cv2.waitKey(30) & 0xff\n",
    "    if k == 27:\n",
    "        break\n",
    "    time.sleep(0.1)\n",
    "\n",
    "captura.release()\n",
    "cv2.destroyAllWindows()"
   ]
  },
  {
   "cell_type": "code",
   "execution_count": null,
   "metadata": {},
   "outputs": [],
   "source": [
    "captura.release()"
   ]
  },
  {
   "cell_type": "markdown",
   "metadata": {},
   "source": [
    "## Dense Optical flow"
   ]
  },
  {
   "cell_type": "code",
   "execution_count": 1,
   "metadata": {},
   "outputs": [
    {
     "ename": "SyntaxError",
     "evalue": "invalid syntax (<ipython-input-1-6b8b5fb90221>, line 24)",
     "output_type": "error",
     "traceback": [
      "\u001b[0;36m  File \u001b[0;32m\"<ipython-input-1-6b8b5fb90221>\"\u001b[0;36m, line \u001b[0;32m24\u001b[0m\n\u001b[0;31m    previus_gray_center = #slicing para pegar o centro da imagem\u001b[0m\n\u001b[0m                                                                ^\u001b[0m\n\u001b[0;31mSyntaxError\u001b[0m\u001b[0;31m:\u001b[0m invalid syntax\n"
     ]
    }
   ],
   "source": [
    "captura = cv2.VideoCapture(0)\n",
    "\n",
    "# Para não deixar encavalar os frames\n",
    "captura.set(cv2.CAP_PROP_BUFFERSIZE, 1)\n",
    "\n",
    "color = np.random.randint(0,255,(100,3))\n",
    "\n",
    "ret, previous = captura.read()\n",
    "\n",
    "previous_gray = cv2.cvtColor(previous, cv2.COLOR_RGB2GRAY)\n",
    "hsv = np.zeros_like(previous)\n",
    "\n",
    "hsv[...,1] = 255\n",
    "\n",
    "fomv = 0\n",
    "\n",
    "while(1):\n",
    "    \n",
    "    ret, actual = captura.read()\n",
    "    actual_gray = cv2.cvtColor(actual, cv2.COLOR_RGB2GRAY)\n",
    "    \n",
    "    # Calcula Fluxo Otico\n",
    "###\n",
    "##\n",
    "###\n",
    "##\n",
    "    previus_gray_center = #slicing para pegar o centro da imagem\n",
    "    actual_gray_center = \n",
    "    flow = cv2.calcOpticalFlowFarneback(previous_gray_center, actual_gray_center,None, 0.5, 3, 15, 3, 5, 1.2, 0)       \n",
    "    \n",
    "    \n",
    "    mag, ang = cv2.cartToPolar(flow[...,0], flow[...,1])\n",
    "    hsv[...,0] = ang*180/np.pi/2\n",
    "    hsv[...,2] = cv2.normalize(mag,None,0,255,cv2.NORM_MINMAX)\n",
    "    frame = cv2.cvtColor(hsv,cv2.COLOR_HSV2BGR)\n",
    "        \n",
    "    cv2.imshow(\"Video\", frame)\n",
    "    \n",
    "    # Atualiza a imagem anterior com a imagem atual e copia os pontos.\n",
    "    previous_gray = actual_gray.copy()\n",
    "    \n",
    "    \n",
    "    # Pressione ESC para sair do loop\n",
    "    k = cv2.waitKey(30) & 0xff\n",
    "    if k == 27:\n",
    "        break\n",
    "    time.sleep(0.1)\n",
    "\n",
    "captura.release()\n",
    "cv2.destroyAllWindows()"
   ]
  },
  {
   "cell_type": "code",
   "execution_count": null,
   "metadata": {},
   "outputs": [],
   "source": [
    "captura.release()"
   ]
  },
  {
   "cell_type": "code",
   "execution_count": null,
   "metadata": {},
   "outputs": [],
   "source": []
  }
 ],
 "metadata": {
  "kernelspec": {
   "display_name": "Python 3",
   "language": "python",
   "name": "python3"
  },
  "language_info": {
   "codemirror_mode": {
    "name": "ipython",
    "version": 3
   },
   "file_extension": ".py",
   "mimetype": "text/x-python",
   "name": "python",
   "nbconvert_exporter": "python",
   "pygments_lexer": "ipython3",
   "version": "3.5.2"
  }
 },
 "nbformat": 4,
 "nbformat_minor": 2
}
