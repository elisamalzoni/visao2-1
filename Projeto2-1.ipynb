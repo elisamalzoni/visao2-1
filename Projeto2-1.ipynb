{
 "cells": [
  {
   "cell_type": "markdown",
   "metadata": {},
   "source": [
    "### Projeto 2-1 Visão Computacional\n",
    "Elisa Malzoni"
   ]
  },
  {
   "cell_type": "code",
   "execution_count": 1,
   "metadata": {},
   "outputs": [],
   "source": [
    "%reset -f\n",
    "%matplotlib inline\n",
    "\n",
    "import cv2 as cv2\n",
    "import numpy as np\n",
    "import matplotlib.pyplot as plt\n",
    "\n",
    "import time"
   ]
  },
  {
   "cell_type": "code",
   "execution_count": 16,
   "metadata": {},
   "outputs": [],
   "source": [
    "captura = cv2.VideoCapture(0)\n",
    "\n",
    "# Para não deixar encavalar os frames\n",
    "captura.set(cv2.CAP_PROP_BUFFERSIZE, 1)\n",
    "\n",
    "# Parametriza a funcao do OpenCV\n",
    "dt_params = dict( maxCorners = 100,\n",
    "           qualityLevel = 0.3,\n",
    "           minDistance = 7,\n",
    "           blockSize = 7 )\n",
    "\n",
    "color = np.random.randint(0,255,(100,3))\n",
    "\n",
    "# Parametriza o Lucas-Kanade\n",
    "lk_params = dict( winSize  = (15,15),\n",
    "                  maxLevel = 2,\n",
    "                  criteria = (cv2.TERM_CRITERIA_EPS | cv2.TERM_CRITERIA_COUNT, 10, 0.03))\n",
    "\n",
    "\n",
    "ret, previous = captura.read()\n",
    "\n",
    "previous_gray = cv2.cvtColor(previous, cv2.COLOR_RGB2GRAY)\n",
    "p0 = cv2.goodFeaturesToTrack(previous_gray, mask = None, **dt_params)\n",
    "mask = np.zeros_like(previous)\n",
    "\n",
    "while(1):\n",
    "    \n",
    "    ret, actual = captura.read()\n",
    "    actual_gray = cv2.cvtColor(actual, cv2.COLOR_RGB2GRAY)\n",
    "    \n",
    "    # Calcula Fluxo Otico\n",
    "    p1, st, err = cv2.calcOpticalFlowPyrLK(previous_gray, actual_gray, p0, None, **lk_params)\n",
    "        \n",
    "    # Seleciona somente os melhores pontos\n",
    "    good_new = p1[st==1]\n",
    "    good_old = p0[st==1]\n",
    "    \n",
    "    # Calcula fluxo otico medio\n",
    "    # subtrair old-new\n",
    "    # tirar media da 1a coluna e 2a coluna \n",
    "        # esse é o fluxo medio\n",
    "#     fomedio = np.su\n",
    "    \n",
    "\n",
    "    # Desenha as trilhas para cada ponto em p1 e p0\n",
    "    for i,(new, old) in enumerate(zip(good_new, good_old)):\n",
    "        a,b = new.ravel()\n",
    "        c,d = old.ravel()\n",
    "        mask = cv2.line(mask, (a,b),(c,d), [0,0,255], 2)\n",
    "        actual = cv2.circle(actual,(a,b),5,color[i].tolist(),-1)\n",
    "    \n",
    "\n",
    "    frame = cv2.add(actual, mask)\n",
    "    \n",
    "    cv2.imshow(\"Video\", frame)\n",
    "    \n",
    "    # Atualiza a imagem anterior com a imagem atual e copia os pontos.\n",
    "    previous_gray = actual_gray.copy()\n",
    "    p0 = good_new.reshape(-1,1,2)\n",
    "    \n",
    "    \n",
    "    # Pressione ESC para sair do loop\n",
    "    k = cv2.waitKey(30) & 0xff\n",
    "    if k == 27:\n",
    "        break\n",
    "    time.sleep(0.1)\n",
    "\n",
    "captura.release()\n",
    "cv2.destroyAllWindows()"
   ]
  },
  {
   "cell_type": "code",
   "execution_count": null,
   "metadata": {},
   "outputs": [],
   "source": []
  }
 ],
 "metadata": {
  "kernelspec": {
   "display_name": "Python 3",
   "language": "python",
   "name": "python3"
  },
  "language_info": {
   "codemirror_mode": {
    "name": "ipython",
    "version": 3
   },
   "file_extension": ".py",
   "mimetype": "text/x-python",
   "name": "python",
   "nbconvert_exporter": "python",
   "pygments_lexer": "ipython3",
   "version": "3.5.2"
  }
 },
 "nbformat": 4,
 "nbformat_minor": 2
}
